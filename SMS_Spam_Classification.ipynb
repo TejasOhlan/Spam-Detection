{
  "nbformat": 4,
  "nbformat_minor": 0,
  "metadata": {
    "colab": {
      "name": "SMS_Spam_Classification.ipynb",
      "provenance": [],
      "include_colab_link": true
    },
    "kernelspec": {
      "name": "python3",
      "display_name": "Python 3"
    }
  },
  "cells": [
    {
      "cell_type": "markdown",
      "metadata": {
        "id": "view-in-github",
        "colab_type": "text"
      },
      "source": [
        "<a href=\"https://colab.research.google.com/github/TejasOhlan/Spam-Detection/blob/main/SMS_Spam_Classification.ipynb\" target=\"_parent\"><img src=\"https://colab.research.google.com/assets/colab-badge.svg\" alt=\"Open In Colab\"/></a>"
      ]
    },
    {
      "cell_type": "markdown",
      "metadata": {
        "id": "2nYsOL7ffTSl"
      },
      "source": [
        "# Naive Bayes Classifier"
      ]
    },
    {
      "cell_type": "markdown",
      "metadata": {
        "id": "1iYNfwfDfTSm"
      },
      "source": [
        "# Objective:\n",
        "To filter mobile phone spam using the Naive Bayes algorithm"
      ]
    },
    {
      "cell_type": "code",
      "metadata": {
        "id": "o4mZtmIr88Mm"
      },
      "source": [
        "import numpy as np\n",
        "import pandas as pd\n",
        "import matplotlib.pyplot as plt\n",
        "%matplotlib inline\n",
        "import seaborn as sns\n",
        "import scipy as sp\n",
        "from google.colab import drive\n",
        "from sklearn import feature_extraction, model_selection, naive_bayes, metrics, svm\n",
        "from sklearn.ensemble import RandomForestClassifier\n",
        "from sklearn.model_selection import train_test_split\n",
        "from sklearn.metrics import precision_recall_fscore_support as score"
      ],
      "execution_count": 15,
      "outputs": []
    },
    {
      "cell_type": "markdown",
      "metadata": {
        "id": "6TyqA4a3fTSw"
      },
      "source": [
        "# 2. Load data"
      ]
    },
    {
      "cell_type": "code",
      "metadata": {
        "id": "M0tw3VrjCGg2"
      },
      "source": [
        "dataset = pd.read_csv('spamsms.csv', encoding='latin-1')"
      ],
      "execution_count": 16,
      "outputs": []
    },
    {
      "cell_type": "markdown",
      "metadata": {
        "id": "dE4I1g-ifTS2"
      },
      "source": [
        "# 3. Exploring and preparing the data "
      ]
    },
    {
      "cell_type": "code",
      "metadata": {
        "id": "xeROP7Wg9dRM",
        "colab": {
          "base_uri": "https://localhost:8080/",
          "height": 204
        },
        "outputId": "f725e0ce-de79-4d78-a5a9-1ee87d8a56ee"
      },
      "source": [
        "dataset.head()"
      ],
      "execution_count": 17,
      "outputs": [
        {
          "output_type": "execute_result",
          "data": {
            "text/html": [
              "<div>\n",
              "<style scoped>\n",
              "    .dataframe tbody tr th:only-of-type {\n",
              "        vertical-align: middle;\n",
              "    }\n",
              "\n",
              "    .dataframe tbody tr th {\n",
              "        vertical-align: top;\n",
              "    }\n",
              "\n",
              "    .dataframe thead th {\n",
              "        text-align: right;\n",
              "    }\n",
              "</style>\n",
              "<table border=\"1\" class=\"dataframe\">\n",
              "  <thead>\n",
              "    <tr style=\"text-align: right;\">\n",
              "      <th></th>\n",
              "      <th>v1</th>\n",
              "      <th>v2</th>\n",
              "      <th>Unnamed: 2</th>\n",
              "      <th>Unnamed: 3</th>\n",
              "      <th>Unnamed: 4</th>\n",
              "    </tr>\n",
              "  </thead>\n",
              "  <tbody>\n",
              "    <tr>\n",
              "      <th>0</th>\n",
              "      <td>ham</td>\n",
              "      <td>Go until jurong point, crazy.. Available only ...</td>\n",
              "      <td>NaN</td>\n",
              "      <td>NaN</td>\n",
              "      <td>NaN</td>\n",
              "    </tr>\n",
              "    <tr>\n",
              "      <th>1</th>\n",
              "      <td>ham</td>\n",
              "      <td>Ok lar... Joking wif u oni...</td>\n",
              "      <td>NaN</td>\n",
              "      <td>NaN</td>\n",
              "      <td>NaN</td>\n",
              "    </tr>\n",
              "    <tr>\n",
              "      <th>2</th>\n",
              "      <td>spam</td>\n",
              "      <td>Free entry in 2 a wkly comp to win FA Cup fina...</td>\n",
              "      <td>NaN</td>\n",
              "      <td>NaN</td>\n",
              "      <td>NaN</td>\n",
              "    </tr>\n",
              "    <tr>\n",
              "      <th>3</th>\n",
              "      <td>ham</td>\n",
              "      <td>U dun say so early hor... U c already then say...</td>\n",
              "      <td>NaN</td>\n",
              "      <td>NaN</td>\n",
              "      <td>NaN</td>\n",
              "    </tr>\n",
              "    <tr>\n",
              "      <th>4</th>\n",
              "      <td>ham</td>\n",
              "      <td>Nah I don't think he goes to usf, he lives aro...</td>\n",
              "      <td>NaN</td>\n",
              "      <td>NaN</td>\n",
              "      <td>NaN</td>\n",
              "    </tr>\n",
              "  </tbody>\n",
              "</table>\n",
              "</div>"
            ],
            "text/plain": [
              "     v1  ... Unnamed: 4\n",
              "0   ham  ...        NaN\n",
              "1   ham  ...        NaN\n",
              "2  spam  ...        NaN\n",
              "3   ham  ...        NaN\n",
              "4   ham  ...        NaN\n",
              "\n",
              "[5 rows x 5 columns]"
            ]
          },
          "metadata": {
            "tags": []
          },
          "execution_count": 17
        }
      ]
    },
    {
      "cell_type": "markdown",
      "metadata": {
        "id": "Wl5o5c87D4DW"
      },
      "source": [
        "We dont require Unnamed columns"
      ]
    },
    {
      "cell_type": "code",
      "metadata": {
        "id": "B0-O6lxH-vUd",
        "colab": {
          "base_uri": "https://localhost:8080/",
          "height": 512
        },
        "outputId": "e4028850-d397-4ac1-8214-3365a5615fa9"
      },
      "source": [
        "dataset.drop(['Unnamed: 2', 'Unnamed: 3', 'Unnamed: 4'], axis=1, inplace=True)\n",
        "dataset.info()\n",
        "dataset.head(10)"
      ],
      "execution_count": 19,
      "outputs": [
        {
          "output_type": "stream",
          "text": [
            "<class 'pandas.core.frame.DataFrame'>\n",
            "RangeIndex: 5572 entries, 0 to 5571\n",
            "Data columns (total 2 columns):\n",
            " #   Column  Non-Null Count  Dtype \n",
            "---  ------  --------------  ----- \n",
            " 0   v1      5572 non-null   object\n",
            " 1   v2      5572 non-null   object\n",
            "dtypes: object(2)\n",
            "memory usage: 87.2+ KB\n"
          ],
          "name": "stdout"
        },
        {
          "output_type": "execute_result",
          "data": {
            "text/html": [
              "<div>\n",
              "<style scoped>\n",
              "    .dataframe tbody tr th:only-of-type {\n",
              "        vertical-align: middle;\n",
              "    }\n",
              "\n",
              "    .dataframe tbody tr th {\n",
              "        vertical-align: top;\n",
              "    }\n",
              "\n",
              "    .dataframe thead th {\n",
              "        text-align: right;\n",
              "    }\n",
              "</style>\n",
              "<table border=\"1\" class=\"dataframe\">\n",
              "  <thead>\n",
              "    <tr style=\"text-align: right;\">\n",
              "      <th></th>\n",
              "      <th>v1</th>\n",
              "      <th>v2</th>\n",
              "    </tr>\n",
              "  </thead>\n",
              "  <tbody>\n",
              "    <tr>\n",
              "      <th>0</th>\n",
              "      <td>ham</td>\n",
              "      <td>Go until jurong point, crazy.. Available only ...</td>\n",
              "    </tr>\n",
              "    <tr>\n",
              "      <th>1</th>\n",
              "      <td>ham</td>\n",
              "      <td>Ok lar... Joking wif u oni...</td>\n",
              "    </tr>\n",
              "    <tr>\n",
              "      <th>2</th>\n",
              "      <td>spam</td>\n",
              "      <td>Free entry in 2 a wkly comp to win FA Cup fina...</td>\n",
              "    </tr>\n",
              "    <tr>\n",
              "      <th>3</th>\n",
              "      <td>ham</td>\n",
              "      <td>U dun say so early hor... U c already then say...</td>\n",
              "    </tr>\n",
              "    <tr>\n",
              "      <th>4</th>\n",
              "      <td>ham</td>\n",
              "      <td>Nah I don't think he goes to usf, he lives aro...</td>\n",
              "    </tr>\n",
              "    <tr>\n",
              "      <th>5</th>\n",
              "      <td>spam</td>\n",
              "      <td>FreeMsg Hey there darling it's been 3 week's n...</td>\n",
              "    </tr>\n",
              "    <tr>\n",
              "      <th>6</th>\n",
              "      <td>ham</td>\n",
              "      <td>Even my brother is not like to speak with me. ...</td>\n",
              "    </tr>\n",
              "    <tr>\n",
              "      <th>7</th>\n",
              "      <td>ham</td>\n",
              "      <td>As per your request 'Melle Melle (Oru Minnamin...</td>\n",
              "    </tr>\n",
              "    <tr>\n",
              "      <th>8</th>\n",
              "      <td>spam</td>\n",
              "      <td>WINNER!! As a valued network customer you have...</td>\n",
              "    </tr>\n",
              "    <tr>\n",
              "      <th>9</th>\n",
              "      <td>spam</td>\n",
              "      <td>Had your mobile 11 months or more? U R entitle...</td>\n",
              "    </tr>\n",
              "  </tbody>\n",
              "</table>\n",
              "</div>"
            ],
            "text/plain": [
              "     v1                                                 v2\n",
              "0   ham  Go until jurong point, crazy.. Available only ...\n",
              "1   ham                      Ok lar... Joking wif u oni...\n",
              "2  spam  Free entry in 2 a wkly comp to win FA Cup fina...\n",
              "3   ham  U dun say so early hor... U c already then say...\n",
              "4   ham  Nah I don't think he goes to usf, he lives aro...\n",
              "5  spam  FreeMsg Hey there darling it's been 3 week's n...\n",
              "6   ham  Even my brother is not like to speak with me. ...\n",
              "7   ham  As per your request 'Melle Melle (Oru Minnamin...\n",
              "8  spam  WINNER!! As a valued network customer you have...\n",
              "9  spam  Had your mobile 11 months or more? U R entitle..."
            ]
          },
          "metadata": {
            "tags": []
          },
          "execution_count": 19
        }
      ]
    },
    {
      "cell_type": "code",
      "metadata": {
        "id": "rndTDtNUFlDS"
      },
      "source": [
        "dataset = dataset.rename(columns = {'v1':'label','v2':'message'})"
      ],
      "execution_count": 20,
      "outputs": []
    },
    {
      "cell_type": "code",
      "metadata": {
        "id": "2DtvXve5ygbp",
        "colab": {
          "base_uri": "https://localhost:8080/",
          "height": 173
        },
        "outputId": "53fb0850-6333-498b-8057-de7c2cb66d15"
      },
      "source": [
        "dataset.groupby('label').describe()"
      ],
      "execution_count": 21,
      "outputs": [
        {
          "output_type": "execute_result",
          "data": {
            "text/html": [
              "<div>\n",
              "<style scoped>\n",
              "    .dataframe tbody tr th:only-of-type {\n",
              "        vertical-align: middle;\n",
              "    }\n",
              "\n",
              "    .dataframe tbody tr th {\n",
              "        vertical-align: top;\n",
              "    }\n",
              "\n",
              "    .dataframe thead tr th {\n",
              "        text-align: left;\n",
              "    }\n",
              "\n",
              "    .dataframe thead tr:last-of-type th {\n",
              "        text-align: right;\n",
              "    }\n",
              "</style>\n",
              "<table border=\"1\" class=\"dataframe\">\n",
              "  <thead>\n",
              "    <tr>\n",
              "      <th></th>\n",
              "      <th colspan=\"4\" halign=\"left\">message</th>\n",
              "    </tr>\n",
              "    <tr>\n",
              "      <th></th>\n",
              "      <th>count</th>\n",
              "      <th>unique</th>\n",
              "      <th>top</th>\n",
              "      <th>freq</th>\n",
              "    </tr>\n",
              "    <tr>\n",
              "      <th>label</th>\n",
              "      <th></th>\n",
              "      <th></th>\n",
              "      <th></th>\n",
              "      <th></th>\n",
              "    </tr>\n",
              "  </thead>\n",
              "  <tbody>\n",
              "    <tr>\n",
              "      <th>ham</th>\n",
              "      <td>4825</td>\n",
              "      <td>4516</td>\n",
              "      <td>Sorry, I'll call later</td>\n",
              "      <td>30</td>\n",
              "    </tr>\n",
              "    <tr>\n",
              "      <th>spam</th>\n",
              "      <td>747</td>\n",
              "      <td>653</td>\n",
              "      <td>Please call our customer service representativ...</td>\n",
              "      <td>4</td>\n",
              "    </tr>\n",
              "  </tbody>\n",
              "</table>\n",
              "</div>"
            ],
            "text/plain": [
              "      message                                                               \n",
              "        count unique                                                top freq\n",
              "label                                                                       \n",
              "ham      4825   4516                             Sorry, I'll call later   30\n",
              "spam      747    653  Please call our customer service representativ...    4"
            ]
          },
          "metadata": {
            "tags": []
          },
          "execution_count": 21
        }
      ]
    },
    {
      "cell_type": "code",
      "metadata": {
        "id": "uD5MljD31w4Q",
        "colab": {
          "base_uri": "https://localhost:8080/",
          "height": 299
        },
        "outputId": "786025c0-69d8-44eb-965b-d0042edbbbfa"
      },
      "source": [
        "count_Class=pd.value_counts(dataset[\"label\"], sort= True)\n",
        "count_Class.plot(kind = 'bar',color = [\"green\",\"red\"])\n",
        "plt.title('Bar Plot')\n",
        "plt.show();"
      ],
      "execution_count": 22,
      "outputs": [
        {
          "output_type": "display_data",
          "data": {
            "image/png": "[encoded data removed]",
            "text/plain": [
              "<Figure size 432x288 with 1 Axes>"
            ]
          },
          "metadata": {
            "tags": [],
            "needs_background": "light"
          }
        }
      ]
    },
    {
      "cell_type": "code",
      "metadata": {
        "id": "RGhCRxTeF5WN",
        "colab": {
          "base_uri": "https://localhost:8080/"
        },
        "outputId": "e1be79ed-ec41-4f35-a0dc-f18ae284f5b7"
      },
      "source": [
        "f = feature_extraction.text.CountVectorizer(stop_words = 'english')\n",
        "X = f.fit_transform(dataset[\"message\"])\n",
        "np.shape(X)"
      ],
      "execution_count": 23,
      "outputs": [
        {
          "output_type": "execute_result",
          "data": {
            "text/plain": [
              "(5572, 8404)"
            ]
          },
          "metadata": {
            "tags": []
          },
          "execution_count": 23
        }
      ]
    },
    {
      "cell_type": "markdown",
      "metadata": {
        "id": "YB_wSIqeIEfv"
      },
      "source": [
        "#Implementing Naive Bayes"
      ]
    },
    {
      "cell_type": "code",
      "metadata": {
        "id": "2d-TvYtgH8XA"
      },
      "source": [
        "# Classifying spam and not spam msgs as 1 and 0\n",
        "dataset[\"label\"]=dataset[\"label\"].map({'spam':1,'ham':0})\n",
        "X_train, X_test, y_train, y_test = model_selection.train_test_split(X, dataset['label'], test_size=0.70, random_state=42)"
      ],
      "execution_count": 24,
      "outputs": []
    },
    {
      "cell_type": "code",
      "metadata": {
        "id": "vIQD09AZIid8"
      },
      "source": [
        "list_alpha = np.arange(1/100000, 20, 0.11)\n",
        "score_train = np.zeros(len(list_alpha))\n",
        "score_test = np.zeros(len(list_alpha))\n",
        "recall_test = np.zeros(len(list_alpha))\n",
        "precision_test= np.zeros(len(list_alpha))\n",
        "count = 0\n",
        "for alpha in list_alpha:\n",
        "    bayes = naive_bayes.MultinomialNB(alpha=alpha)\n",
        "    bayes.fit(X_train, y_train)\n",
        "    score_train[count] = bayes.score(X_train, y_train)\n",
        "    score_test[count]= bayes.score(X_test, y_test)\n",
        "    recall_test[count] = metrics.recall_score(y_test, bayes.predict(X_test))\n",
        "    precision_test[count] = metrics.precision_score(y_test, bayes.predict(X_test))\n",
        "    count = count + 1 "
      ],
      "execution_count": 25,
      "outputs": []
    },
    {
      "cell_type": "code",
      "metadata": {
        "id": "s9BMRkPlI9zb",
        "colab": {
          "base_uri": "https://localhost:8080/",
          "height": 359
        },
        "outputId": "bb0e8dc7-40c7-40b9-8269-15460accd3be"
      },
      "source": [
        "matrix = np.matrix(np.c_[list_alpha, score_train, score_test, recall_test, precision_test])\n",
        "models = pd.DataFrame(data = matrix, columns = \n",
        "             ['alpha', 'Train Accuracy', 'Test Accuracy', 'Test Recall', 'Test Precision'])\n",
        "models.head(n=10)\n"
      ],
      "execution_count": 26,
      "outputs": [
        {
          "output_type": "execute_result",
          "data": {
            "text/html": [
              "<div>\n",
              "<style scoped>\n",
              "    .dataframe tbody tr th:only-of-type {\n",
              "        vertical-align: middle;\n",
              "    }\n",
              "\n",
              "    .dataframe tbody tr th {\n",
              "        vertical-align: top;\n",
              "    }\n",
              "\n",
              "    .dataframe thead th {\n",
              "        text-align: right;\n",
              "    }\n",
              "</style>\n",
              "<table border=\"1\" class=\"dataframe\">\n",
              "  <thead>\n",
              "    <tr style=\"text-align: right;\">\n",
              "      <th></th>\n",
              "      <th>alpha</th>\n",
              "      <th>Train Accuracy</th>\n",
              "      <th>Test Accuracy</th>\n",
              "      <th>Test Recall</th>\n",
              "      <th>Test Precision</th>\n",
              "    </tr>\n",
              "  </thead>\n",
              "  <tbody>\n",
              "    <tr>\n",
              "      <th>0</th>\n",
              "      <td>0.00001</td>\n",
              "      <td>0.998803</td>\n",
              "      <td>0.961805</td>\n",
              "      <td>0.913793</td>\n",
              "      <td>0.820998</td>\n",
              "    </tr>\n",
              "    <tr>\n",
              "      <th>1</th>\n",
              "      <td>0.11001</td>\n",
              "      <td>0.998803</td>\n",
              "      <td>0.966163</td>\n",
              "      <td>0.946360</td>\n",
              "      <td>0.826087</td>\n",
              "    </tr>\n",
              "    <tr>\n",
              "      <th>2</th>\n",
              "      <td>0.22001</td>\n",
              "      <td>0.999402</td>\n",
              "      <td>0.967444</td>\n",
              "      <td>0.938697</td>\n",
              "      <td>0.837607</td>\n",
              "    </tr>\n",
              "    <tr>\n",
              "      <th>3</th>\n",
              "      <td>0.33001</td>\n",
              "      <td>0.999402</td>\n",
              "      <td>0.968726</td>\n",
              "      <td>0.938697</td>\n",
              "      <td>0.844828</td>\n",
              "    </tr>\n",
              "    <tr>\n",
              "      <th>4</th>\n",
              "      <td>0.44001</td>\n",
              "      <td>0.999402</td>\n",
              "      <td>0.971546</td>\n",
              "      <td>0.929119</td>\n",
              "      <td>0.867621</td>\n",
              "    </tr>\n",
              "    <tr>\n",
              "      <th>5</th>\n",
              "      <td>0.55001</td>\n",
              "      <td>0.998803</td>\n",
              "      <td>0.976160</td>\n",
              "      <td>0.925287</td>\n",
              "      <td>0.899441</td>\n",
              "    </tr>\n",
              "    <tr>\n",
              "      <th>6</th>\n",
              "      <td>0.66001</td>\n",
              "      <td>0.998803</td>\n",
              "      <td>0.976160</td>\n",
              "      <td>0.919540</td>\n",
              "      <td>0.903955</td>\n",
              "    </tr>\n",
              "    <tr>\n",
              "      <th>7</th>\n",
              "      <td>0.77001</td>\n",
              "      <td>0.997606</td>\n",
              "      <td>0.977698</td>\n",
              "      <td>0.917625</td>\n",
              "      <td>0.915870</td>\n",
              "    </tr>\n",
              "    <tr>\n",
              "      <th>8</th>\n",
              "      <td>0.88001</td>\n",
              "      <td>0.997606</td>\n",
              "      <td>0.977954</td>\n",
              "      <td>0.909962</td>\n",
              "      <td>0.924125</td>\n",
              "    </tr>\n",
              "    <tr>\n",
              "      <th>9</th>\n",
              "      <td>0.99001</td>\n",
              "      <td>0.997606</td>\n",
              "      <td>0.978980</td>\n",
              "      <td>0.902299</td>\n",
              "      <td>0.938247</td>\n",
              "    </tr>\n",
              "  </tbody>\n",
              "</table>\n",
              "</div>"
            ],
            "text/plain": [
              "     alpha  Train Accuracy  Test Accuracy  Test Recall  Test Precision\n",
              "0  0.00001        0.998803       0.961805     0.913793        0.820998\n",
              "1  0.11001        0.998803       0.966163     0.946360        0.826087\n",
              "2  0.22001        0.999402       0.967444     0.938697        0.837607\n",
              "3  0.33001        0.999402       0.968726     0.938697        0.844828\n",
              "4  0.44001        0.999402       0.971546     0.929119        0.867621\n",
              "5  0.55001        0.998803       0.976160     0.925287        0.899441\n",
              "6  0.66001        0.998803       0.976160     0.919540        0.903955\n",
              "7  0.77001        0.997606       0.977698     0.917625        0.915870\n",
              "8  0.88001        0.997606       0.977954     0.909962        0.924125\n",
              "9  0.99001        0.997606       0.978980     0.902299        0.938247"
            ]
          },
          "metadata": {
            "tags": []
          },
          "execution_count": 26
        }
      ]
    },
    {
      "cell_type": "code",
      "metadata": {
        "id": "XEmJr7bJJBQL",
        "colab": {
          "base_uri": "https://localhost:8080/"
        },
        "outputId": "86006ece-8ab8-4933-b29a-f20e93501023"
      },
      "source": [
        "best_index = models['Test Precision'].idxmax()\n",
        "models.iloc[best_index, :]"
      ],
      "execution_count": 29,
      "outputs": [
        {
          "output_type": "execute_result",
          "data": {
            "text/plain": [
              "alpha             10.670010\n",
              "Train Accuracy     0.977259\n",
              "Test Accuracy      0.962574\n",
              "Test Recall        0.720307\n",
              "Test Precision     1.000000\n",
              "Name: 97, dtype: float64"
            ]
          },
          "metadata": {
            "tags": []
          },
          "execution_count": 29
        }
      ]
    },
    {
      "cell_type": "markdown",
      "metadata": {
        "id": "_xu4BP5EJtN5"
      },
      "source": [
        "**Random Forest Method**"
      ]
    },
    {
      "cell_type": "code",
      "metadata": {
        "id": "no3hqQoCJvyn"
      },
      "source": [
        "rf = RandomForestClassifier(n_estimators=100,max_depth=None,n_jobs=-1)\n",
        "rf_model = rf.fit(X_train,y_train)"
      ],
      "execution_count": 30,
      "outputs": []
    },
    {
      "cell_type": "code",
      "metadata": {
        "id": "2JrMpC5CJxtK",
        "colab": {
          "base_uri": "https://localhost:8080/"
        },
        "outputId": "175a08de-9a44-4f9d-adb3-16780d97def8"
      },
      "source": [
        "y_pred=rf_model.predict(X_test)\n",
        "precision,recall,fscore,support =score(y_test,y_pred,pos_label=1, average ='binary')\n",
        "print('Precision : {} / Recall : {} / fscore : {} / Accuracy: {}'.format(round(precision,3),round(recall,3),round(fscore,3),round((y_pred==y_test).sum()/len(y_test),3)))"
      ],
      "execution_count": 31,
      "outputs": [
        {
          "output_type": "stream",
          "text": [
            "Precision : 0.992 / Recall : 0.738 / fscore : 0.846 / Accuracy: 0.964\n"
          ],
          "name": "stdout"
        }
      ]
    },
    {
      "cell_type": "markdown",
      "metadata": {
        "id": "47T_IDTWy8h0"
      },
      "source": [
        "**Using NLP techniques and using Tensorflow** "
      ]
    },
    {
      "cell_type": "code",
      "metadata": {
        "id": "T9PVGkzXy-ZG"
      },
      "source": [
        "import tensorflow as tf\n",
        "from keras.preprocessing.text import Tokenizer\n",
        "from keras.layers import Embedding, LSTM, Dropout, Dense\n",
        "from keras.models import Sequential\n",
        "from keras.preprocessing.sequence import pad_sequences\n",
        "import tensorflow as tf\n",
        "\n"
      ],
      "execution_count": 34,
      "outputs": []
    },
    {
      "cell_type": "code",
      "metadata": {
        "id": "oBWeH7Y-zHbn"
      },
      "source": [
        "vocab_size = 400\n",
        "oov_tok = \"<OOV>\"\n",
        "max_length = 250\n",
        "embedding_dim = 16\n",
        "encode = ({'ham': 0, 'spam': 1} )\n",
        "#new dataset with replaced values\n",
        "dataset = dataset.replace(encode)\n"
      ],
      "execution_count": 35,
      "outputs": []
    },
    {
      "cell_type": "code",
      "metadata": {
        "id": "VDV4kEu0zIlg"
      },
      "source": [
        "X = dataset['message']\n",
        "Y = dataset['label']\n",
        "tokenizer = Tokenizer(num_words=vocab_size, oov_token=oov_tok)\n",
        "tokenizer.fit_on_texts(X)\n",
        "# convert to sequence of integers\n",
        "X = tokenizer.texts_to_sequences(X)"
      ],
      "execution_count": 36,
      "outputs": []
    },
    {
      "cell_type": "code",
      "metadata": {
        "id": "GOI7t-VWzNI6",
        "colab": {
          "base_uri": "https://localhost:8080/"
        },
        "outputId": "fdd4f561-5069-4e03-8386-a623fd94fc1d"
      },
      "source": [
        "X = np.array(X)\n",
        "y = np.array(Y)"
      ],
      "execution_count": 37,
      "outputs": [
        {
          "output_type": "stream",
          "text": [
            "/usr/local/lib/python3.7/dist-packages/ipykernel_launcher.py:1: VisibleDeprecationWarning: Creating an ndarray from ragged nested sequences (which is a list-or-tuple of lists-or-tuples-or ndarrays with different lengths or shapes) is deprecated. If you meant to do this, you must specify 'dtype=object' when creating the ndarray\n",
            "  \"\"\"Entry point for launching an IPython kernel.\n"
          ],
          "name": "stderr"
        }
      ]
    },
    {
      "cell_type": "code",
      "metadata": {
        "id": "KjewpYFdzRkc"
      },
      "source": [
        "X = pad_sequences(X, maxlen=max_length)"
      ],
      "execution_count": 38,
      "outputs": []
    },
    {
      "cell_type": "code",
      "metadata": {
        "id": "Se11So0dzVOQ",
        "colab": {
          "base_uri": "https://localhost:8080/"
        },
        "outputId": "f0bb77f4-b938-43d4-808d-00f2a7e2a296"
      },
      "source": [
        "model = tf.keras.Sequential([\n",
        "    tf.keras.layers.Embedding(vocab_size, embedding_dim, input_length=max_length),\n",
        "    tf.keras.layers.GlobalAveragePooling1D(),\n",
        "    tf.keras.layers.Dense(24, activation='relu'),\n",
        "    tf.keras.layers.Dense(1, activation='sigmoid')\n",
        "])\n",
        "model.compile(loss='binary_crossentropy',optimizer='adam',metrics=['accuracy'])\n",
        "model.summary()"
      ],
      "execution_count": 39,
      "outputs": [
        {
          "output_type": "stream",
          "text": [
            "Model: \"sequential\"\n",
            "_________________________________________________________________\n",
            "Layer (type)                 Output Shape              Param #   \n",
            "=================================================================\n",
            "embedding (Embedding)        (None, 250, 16)           6400      \n",
            "_________________________________________________________________\n",
            "global_average_pooling1d (Gl (None, 16)                0         \n",
            "_________________________________________________________________\n",
            "dense (Dense)                (None, 24)                408       \n",
            "_________________________________________________________________\n",
            "dense_1 (Dense)              (None, 1)                 25        \n",
            "=================================================================\n",
            "Total params: 6,833\n",
            "Trainable params: 6,833\n",
            "Non-trainable params: 0\n",
            "_________________________________________________________________\n"
          ],
          "name": "stdout"
        }
      ]
    },
    {
      "cell_type": "code",
      "metadata": {
        "id": "fLPzLmwWzdqc",
        "colab": {
          "base_uri": "https://localhost:8080/"
        },
        "outputId": "940ae921-d3c1-4f21-f3c8-9513f6ce6f61"
      },
      "source": [
        "num_epochs = 50\n",
        "X_train, X_test, y_train, y_test = train_test_split(X, Y, test_size=.20, random_state=7)\n",
        "history = model.fit(X_train, y_train, epochs=num_epochs, validation_data=(X_test,y_test), verbose=2)"
      ],
      "execution_count": 40,
      "outputs": [
        {
          "output_type": "stream",
          "text": [
            "Epoch 1/50\n",
            "140/140 - 1s - loss: 0.5140 - accuracy: 0.8649 - val_loss: 0.3832 - val_accuracy: 0.8700\n",
            "Epoch 2/50\n",
            "140/140 - 0s - loss: 0.3813 - accuracy: 0.8649 - val_loss: 0.3664 - val_accuracy: 0.8700\n",
            "Epoch 3/50\n",
            "140/140 - 0s - loss: 0.3686 - accuracy: 0.8649 - val_loss: 0.3529 - val_accuracy: 0.8700\n",
            "Epoch 4/50\n",
            "140/140 - 0s - loss: 0.3506 - accuracy: 0.8649 - val_loss: 0.3293 - val_accuracy: 0.8700\n",
            "Epoch 5/50\n",
            "140/140 - 0s - loss: 0.3153 - accuracy: 0.8643 - val_loss: 0.2813 - val_accuracy: 0.8700\n",
            "Epoch 6/50\n",
            "140/140 - 0s - loss: 0.2532 - accuracy: 0.8744 - val_loss: 0.2127 - val_accuracy: 0.9040\n",
            "Epoch 7/50\n",
            "140/140 - 0s - loss: 0.1905 - accuracy: 0.9237 - val_loss: 0.1634 - val_accuracy: 0.9543\n",
            "Epoch 8/50\n",
            "140/140 - 0s - loss: 0.1530 - accuracy: 0.9493 - val_loss: 0.1319 - val_accuracy: 0.9587\n",
            "Epoch 9/50\n",
            "140/140 - 0s - loss: 0.1298 - accuracy: 0.9580 - val_loss: 0.1149 - val_accuracy: 0.9641\n",
            "Epoch 10/50\n",
            "140/140 - 0s - loss: 0.1153 - accuracy: 0.9630 - val_loss: 0.1021 - val_accuracy: 0.9668\n",
            "Epoch 11/50\n",
            "140/140 - 0s - loss: 0.1046 - accuracy: 0.9675 - val_loss: 0.0923 - val_accuracy: 0.9659\n",
            "Epoch 12/50\n",
            "140/140 - 0s - loss: 0.0970 - accuracy: 0.9681 - val_loss: 0.0852 - val_accuracy: 0.9704\n",
            "Epoch 13/50\n",
            "140/140 - 0s - loss: 0.0894 - accuracy: 0.9699 - val_loss: 0.0771 - val_accuracy: 0.9767\n",
            "Epoch 14/50\n",
            "140/140 - 0s - loss: 0.0833 - accuracy: 0.9722 - val_loss: 0.0723 - val_accuracy: 0.9767\n",
            "Epoch 15/50\n",
            "140/140 - 0s - loss: 0.0790 - accuracy: 0.9740 - val_loss: 0.0673 - val_accuracy: 0.9767\n",
            "Epoch 16/50\n",
            "140/140 - 0s - loss: 0.0732 - accuracy: 0.9762 - val_loss: 0.0648 - val_accuracy: 0.9776\n",
            "Epoch 17/50\n",
            "140/140 - 0s - loss: 0.0700 - accuracy: 0.9773 - val_loss: 0.0610 - val_accuracy: 0.9812\n",
            "Epoch 18/50\n",
            "140/140 - 0s - loss: 0.0653 - accuracy: 0.9776 - val_loss: 0.0573 - val_accuracy: 0.9812\n",
            "Epoch 19/50\n",
            "140/140 - 0s - loss: 0.0639 - accuracy: 0.9785 - val_loss: 0.0555 - val_accuracy: 0.9821\n",
            "Epoch 20/50\n",
            "140/140 - 0s - loss: 0.0605 - accuracy: 0.9796 - val_loss: 0.0546 - val_accuracy: 0.9830\n",
            "Epoch 21/50\n",
            "140/140 - 0s - loss: 0.0585 - accuracy: 0.9812 - val_loss: 0.0533 - val_accuracy: 0.9821\n",
            "Epoch 22/50\n",
            "140/140 - 0s - loss: 0.0562 - accuracy: 0.9807 - val_loss: 0.0509 - val_accuracy: 0.9830\n",
            "Epoch 23/50\n",
            "140/140 - 0s - loss: 0.0555 - accuracy: 0.9814 - val_loss: 0.0491 - val_accuracy: 0.9839\n",
            "Epoch 24/50\n",
            "140/140 - 0s - loss: 0.0530 - accuracy: 0.9818 - val_loss: 0.0485 - val_accuracy: 0.9839\n",
            "Epoch 25/50\n",
            "140/140 - 0s - loss: 0.0520 - accuracy: 0.9827 - val_loss: 0.0501 - val_accuracy: 0.9848\n",
            "Epoch 26/50\n",
            "140/140 - 0s - loss: 0.0511 - accuracy: 0.9836 - val_loss: 0.0477 - val_accuracy: 0.9848\n",
            "Epoch 27/50\n",
            "140/140 - 0s - loss: 0.0497 - accuracy: 0.9841 - val_loss: 0.0476 - val_accuracy: 0.9865\n",
            "Epoch 28/50\n",
            "140/140 - 0s - loss: 0.0478 - accuracy: 0.9845 - val_loss: 0.0453 - val_accuracy: 0.9874\n",
            "Epoch 29/50\n",
            "140/140 - 0s - loss: 0.0464 - accuracy: 0.9845 - val_loss: 0.0447 - val_accuracy: 0.9874\n",
            "Epoch 30/50\n",
            "140/140 - 0s - loss: 0.0451 - accuracy: 0.9856 - val_loss: 0.0486 - val_accuracy: 0.9848\n",
            "Epoch 31/50\n",
            "140/140 - 0s - loss: 0.0459 - accuracy: 0.9850 - val_loss: 0.0436 - val_accuracy: 0.9883\n",
            "Epoch 32/50\n",
            "140/140 - 0s - loss: 0.0435 - accuracy: 0.9854 - val_loss: 0.0440 - val_accuracy: 0.9883\n",
            "Epoch 33/50\n",
            "140/140 - 0s - loss: 0.0426 - accuracy: 0.9852 - val_loss: 0.0428 - val_accuracy: 0.9883\n",
            "Epoch 34/50\n",
            "140/140 - 0s - loss: 0.0418 - accuracy: 0.9859 - val_loss: 0.0447 - val_accuracy: 0.9848\n",
            "Epoch 35/50\n",
            "140/140 - 0s - loss: 0.0407 - accuracy: 0.9861 - val_loss: 0.0423 - val_accuracy: 0.9892\n",
            "Epoch 36/50\n",
            "140/140 - 0s - loss: 0.0399 - accuracy: 0.9865 - val_loss: 0.0423 - val_accuracy: 0.9883\n",
            "Epoch 37/50\n",
            "140/140 - 0s - loss: 0.0393 - accuracy: 0.9870 - val_loss: 0.0440 - val_accuracy: 0.9848\n",
            "Epoch 38/50\n",
            "140/140 - 0s - loss: 0.0386 - accuracy: 0.9872 - val_loss: 0.0417 - val_accuracy: 0.9892\n",
            "Epoch 39/50\n",
            "140/140 - 0s - loss: 0.0380 - accuracy: 0.9874 - val_loss: 0.0417 - val_accuracy: 0.9892\n",
            "Epoch 40/50\n",
            "140/140 - 0s - loss: 0.0378 - accuracy: 0.9870 - val_loss: 0.0413 - val_accuracy: 0.9901\n",
            "Epoch 41/50\n",
            "140/140 - 0s - loss: 0.0366 - accuracy: 0.9874 - val_loss: 0.0412 - val_accuracy: 0.9901\n",
            "Epoch 42/50\n",
            "140/140 - 0s - loss: 0.0368 - accuracy: 0.9877 - val_loss: 0.0412 - val_accuracy: 0.9901\n",
            "Epoch 43/50\n",
            "140/140 - 0s - loss: 0.0351 - accuracy: 0.9892 - val_loss: 0.0413 - val_accuracy: 0.9901\n",
            "Epoch 44/50\n",
            "140/140 - 0s - loss: 0.0344 - accuracy: 0.9888 - val_loss: 0.0409 - val_accuracy: 0.9901\n",
            "Epoch 45/50\n",
            "140/140 - 0s - loss: 0.0351 - accuracy: 0.9886 - val_loss: 0.0458 - val_accuracy: 0.9892\n",
            "Epoch 46/50\n",
            "140/140 - 0s - loss: 0.0337 - accuracy: 0.9883 - val_loss: 0.0409 - val_accuracy: 0.9901\n",
            "Epoch 47/50\n",
            "140/140 - 0s - loss: 0.0331 - accuracy: 0.9892 - val_loss: 0.0434 - val_accuracy: 0.9901\n",
            "Epoch 48/50\n",
            "140/140 - 0s - loss: 0.0337 - accuracy: 0.9888 - val_loss: 0.0416 - val_accuracy: 0.9874\n",
            "Epoch 49/50\n",
            "140/140 - 0s - loss: 0.0322 - accuracy: 0.9895 - val_loss: 0.0431 - val_accuracy: 0.9901\n",
            "Epoch 50/50\n",
            "140/140 - 0s - loss: 0.0335 - accuracy: 0.9892 - val_loss: 0.0408 - val_accuracy: 0.9901\n"
          ],
          "name": "stdout"
        }
      ]
    },
    {
      "cell_type": "code",
      "metadata": {
        "id": "f2W932zozgjY",
        "colab": {
          "base_uri": "https://localhost:8080/"
        },
        "outputId": "f06b7715-fc1d-430c-c591-9380692cc780"
      },
      "source": [
        "results = model.evaluate(X_test, y_test)\n",
        "loss = results[0]\n",
        "accuracy = results[1]\n",
        "\n",
        "\n",
        "print(f\"[+] Accuracy: {accuracy*100:.2f}%\")"
      ],
      "execution_count": 41,
      "outputs": [
        {
          "output_type": "stream",
          "text": [
            "35/35 [==============================] - 0s 2ms/step - loss: 0.0408 - accuracy: 0.9901\n",
            "[+] Accuracy: 99.01%\n"
          ],
          "name": "stdout"
        }
      ]
    }
  ]
}